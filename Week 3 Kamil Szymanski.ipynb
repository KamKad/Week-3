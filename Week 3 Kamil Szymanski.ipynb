{
 "cells": [
  {
   "cell_type": "code",
   "execution_count": 1,
   "metadata": {},
   "outputs": [],
   "source": [
    "import pandas as pd"
   ]
  },
  {
   "cell_type": "code",
   "execution_count": 2,
   "metadata": {},
   "outputs": [],
   "source": [
    "test_id = pd.read_csv(\"test_identity.csv\")"
   ]
  },
  {
   "cell_type": "code",
   "execution_count": 4,
   "metadata": {},
   "outputs": [],
   "source": [
    "test_transaction = pd.read_csv(\"test_transaction.csv\")"
   ]
  },
  {
   "cell_type": "code",
   "execution_count": 82,
   "metadata": {},
   "outputs": [
    {
     "data": {
      "text/html": [
       "<div>\n",
       "<style scoped>\n",
       "    .dataframe tbody tr th:only-of-type {\n",
       "        vertical-align: middle;\n",
       "    }\n",
       "\n",
       "    .dataframe tbody tr th {\n",
       "        vertical-align: top;\n",
       "    }\n",
       "\n",
       "    .dataframe thead th {\n",
       "        text-align: right;\n",
       "    }\n",
       "</style>\n",
       "<table border=\"1\" class=\"dataframe\">\n",
       "  <thead>\n",
       "    <tr style=\"text-align: right;\">\n",
       "      <th></th>\n",
       "      <th>TransactionID</th>\n",
       "      <th>TransactionDT</th>\n",
       "      <th>TransactionAmt</th>\n",
       "      <th>ProductCD</th>\n",
       "      <th>card1</th>\n",
       "      <th>card2</th>\n",
       "      <th>card3</th>\n",
       "      <th>card4</th>\n",
       "      <th>card5</th>\n",
       "      <th>card6</th>\n",
       "      <th>...</th>\n",
       "      <th>V330</th>\n",
       "      <th>V331</th>\n",
       "      <th>V332</th>\n",
       "      <th>V333</th>\n",
       "      <th>V334</th>\n",
       "      <th>V335</th>\n",
       "      <th>V336</th>\n",
       "      <th>V337</th>\n",
       "      <th>V338</th>\n",
       "      <th>V339</th>\n",
       "    </tr>\n",
       "  </thead>\n",
       "  <tbody>\n",
       "    <tr>\n",
       "      <th>0</th>\n",
       "      <td>3663549</td>\n",
       "      <td>18403224</td>\n",
       "      <td>31.95</td>\n",
       "      <td>W</td>\n",
       "      <td>10409</td>\n",
       "      <td>111.0</td>\n",
       "      <td>150.0</td>\n",
       "      <td>visa</td>\n",
       "      <td>226.0</td>\n",
       "      <td>debit</td>\n",
       "      <td>...</td>\n",
       "      <td>NaN</td>\n",
       "      <td>NaN</td>\n",
       "      <td>NaN</td>\n",
       "      <td>NaN</td>\n",
       "      <td>NaN</td>\n",
       "      <td>NaN</td>\n",
       "      <td>NaN</td>\n",
       "      <td>NaN</td>\n",
       "      <td>NaN</td>\n",
       "      <td>NaN</td>\n",
       "    </tr>\n",
       "    <tr>\n",
       "      <th>1</th>\n",
       "      <td>3663550</td>\n",
       "      <td>18403263</td>\n",
       "      <td>49.00</td>\n",
       "      <td>W</td>\n",
       "      <td>4272</td>\n",
       "      <td>111.0</td>\n",
       "      <td>150.0</td>\n",
       "      <td>visa</td>\n",
       "      <td>226.0</td>\n",
       "      <td>debit</td>\n",
       "      <td>...</td>\n",
       "      <td>NaN</td>\n",
       "      <td>NaN</td>\n",
       "      <td>NaN</td>\n",
       "      <td>NaN</td>\n",
       "      <td>NaN</td>\n",
       "      <td>NaN</td>\n",
       "      <td>NaN</td>\n",
       "      <td>NaN</td>\n",
       "      <td>NaN</td>\n",
       "      <td>NaN</td>\n",
       "    </tr>\n",
       "    <tr>\n",
       "      <th>2</th>\n",
       "      <td>3663551</td>\n",
       "      <td>18403310</td>\n",
       "      <td>171.00</td>\n",
       "      <td>W</td>\n",
       "      <td>4476</td>\n",
       "      <td>574.0</td>\n",
       "      <td>150.0</td>\n",
       "      <td>visa</td>\n",
       "      <td>226.0</td>\n",
       "      <td>debit</td>\n",
       "      <td>...</td>\n",
       "      <td>NaN</td>\n",
       "      <td>NaN</td>\n",
       "      <td>NaN</td>\n",
       "      <td>NaN</td>\n",
       "      <td>NaN</td>\n",
       "      <td>NaN</td>\n",
       "      <td>NaN</td>\n",
       "      <td>NaN</td>\n",
       "      <td>NaN</td>\n",
       "      <td>NaN</td>\n",
       "    </tr>\n",
       "    <tr>\n",
       "      <th>3</th>\n",
       "      <td>3663552</td>\n",
       "      <td>18403310</td>\n",
       "      <td>284.95</td>\n",
       "      <td>W</td>\n",
       "      <td>10989</td>\n",
       "      <td>360.0</td>\n",
       "      <td>150.0</td>\n",
       "      <td>visa</td>\n",
       "      <td>166.0</td>\n",
       "      <td>debit</td>\n",
       "      <td>...</td>\n",
       "      <td>NaN</td>\n",
       "      <td>NaN</td>\n",
       "      <td>NaN</td>\n",
       "      <td>NaN</td>\n",
       "      <td>NaN</td>\n",
       "      <td>NaN</td>\n",
       "      <td>NaN</td>\n",
       "      <td>NaN</td>\n",
       "      <td>NaN</td>\n",
       "      <td>NaN</td>\n",
       "    </tr>\n",
       "    <tr>\n",
       "      <th>4</th>\n",
       "      <td>3663553</td>\n",
       "      <td>18403317</td>\n",
       "      <td>67.95</td>\n",
       "      <td>W</td>\n",
       "      <td>18018</td>\n",
       "      <td>452.0</td>\n",
       "      <td>150.0</td>\n",
       "      <td>mastercard</td>\n",
       "      <td>117.0</td>\n",
       "      <td>debit</td>\n",
       "      <td>...</td>\n",
       "      <td>NaN</td>\n",
       "      <td>NaN</td>\n",
       "      <td>NaN</td>\n",
       "      <td>NaN</td>\n",
       "      <td>NaN</td>\n",
       "      <td>NaN</td>\n",
       "      <td>NaN</td>\n",
       "      <td>NaN</td>\n",
       "      <td>NaN</td>\n",
       "      <td>NaN</td>\n",
       "    </tr>\n",
       "    <tr>\n",
       "      <th>5</th>\n",
       "      <td>3663554</td>\n",
       "      <td>18403323</td>\n",
       "      <td>57.95</td>\n",
       "      <td>W</td>\n",
       "      <td>12839</td>\n",
       "      <td>321.0</td>\n",
       "      <td>150.0</td>\n",
       "      <td>visa</td>\n",
       "      <td>226.0</td>\n",
       "      <td>debit</td>\n",
       "      <td>...</td>\n",
       "      <td>NaN</td>\n",
       "      <td>NaN</td>\n",
       "      <td>NaN</td>\n",
       "      <td>NaN</td>\n",
       "      <td>NaN</td>\n",
       "      <td>NaN</td>\n",
       "      <td>NaN</td>\n",
       "      <td>NaN</td>\n",
       "      <td>NaN</td>\n",
       "      <td>NaN</td>\n",
       "    </tr>\n",
       "    <tr>\n",
       "      <th>6</th>\n",
       "      <td>3663555</td>\n",
       "      <td>18403350</td>\n",
       "      <td>87.00</td>\n",
       "      <td>W</td>\n",
       "      <td>16560</td>\n",
       "      <td>476.0</td>\n",
       "      <td>150.0</td>\n",
       "      <td>visa</td>\n",
       "      <td>126.0</td>\n",
       "      <td>debit</td>\n",
       "      <td>...</td>\n",
       "      <td>NaN</td>\n",
       "      <td>NaN</td>\n",
       "      <td>NaN</td>\n",
       "      <td>NaN</td>\n",
       "      <td>NaN</td>\n",
       "      <td>NaN</td>\n",
       "      <td>NaN</td>\n",
       "      <td>NaN</td>\n",
       "      <td>NaN</td>\n",
       "      <td>NaN</td>\n",
       "    </tr>\n",
       "    <tr>\n",
       "      <th>7</th>\n",
       "      <td>3663556</td>\n",
       "      <td>18403387</td>\n",
       "      <td>390.00</td>\n",
       "      <td>W</td>\n",
       "      <td>15066</td>\n",
       "      <td>170.0</td>\n",
       "      <td>150.0</td>\n",
       "      <td>mastercard</td>\n",
       "      <td>102.0</td>\n",
       "      <td>credit</td>\n",
       "      <td>...</td>\n",
       "      <td>NaN</td>\n",
       "      <td>NaN</td>\n",
       "      <td>NaN</td>\n",
       "      <td>NaN</td>\n",
       "      <td>NaN</td>\n",
       "      <td>NaN</td>\n",
       "      <td>NaN</td>\n",
       "      <td>NaN</td>\n",
       "      <td>NaN</td>\n",
       "      <td>NaN</td>\n",
       "    </tr>\n",
       "    <tr>\n",
       "      <th>8</th>\n",
       "      <td>3663557</td>\n",
       "      <td>18403405</td>\n",
       "      <td>103.95</td>\n",
       "      <td>W</td>\n",
       "      <td>2803</td>\n",
       "      <td>100.0</td>\n",
       "      <td>150.0</td>\n",
       "      <td>visa</td>\n",
       "      <td>226.0</td>\n",
       "      <td>debit</td>\n",
       "      <td>...</td>\n",
       "      <td>NaN</td>\n",
       "      <td>NaN</td>\n",
       "      <td>NaN</td>\n",
       "      <td>NaN</td>\n",
       "      <td>NaN</td>\n",
       "      <td>NaN</td>\n",
       "      <td>NaN</td>\n",
       "      <td>NaN</td>\n",
       "      <td>NaN</td>\n",
       "      <td>NaN</td>\n",
       "    </tr>\n",
       "    <tr>\n",
       "      <th>9</th>\n",
       "      <td>3663558</td>\n",
       "      <td>18403416</td>\n",
       "      <td>117.00</td>\n",
       "      <td>W</td>\n",
       "      <td>12544</td>\n",
       "      <td>321.0</td>\n",
       "      <td>150.0</td>\n",
       "      <td>visa</td>\n",
       "      <td>226.0</td>\n",
       "      <td>debit</td>\n",
       "      <td>...</td>\n",
       "      <td>NaN</td>\n",
       "      <td>NaN</td>\n",
       "      <td>NaN</td>\n",
       "      <td>NaN</td>\n",
       "      <td>NaN</td>\n",
       "      <td>NaN</td>\n",
       "      <td>NaN</td>\n",
       "      <td>NaN</td>\n",
       "      <td>NaN</td>\n",
       "      <td>NaN</td>\n",
       "    </tr>\n",
       "    <tr>\n",
       "      <th>10</th>\n",
       "      <td>3663559</td>\n",
       "      <td>18403474</td>\n",
       "      <td>261.95</td>\n",
       "      <td>W</td>\n",
       "      <td>16982</td>\n",
       "      <td>127.0</td>\n",
       "      <td>150.0</td>\n",
       "      <td>mastercard</td>\n",
       "      <td>224.0</td>\n",
       "      <td>debit</td>\n",
       "      <td>...</td>\n",
       "      <td>NaN</td>\n",
       "      <td>NaN</td>\n",
       "      <td>NaN</td>\n",
       "      <td>NaN</td>\n",
       "      <td>NaN</td>\n",
       "      <td>NaN</td>\n",
       "      <td>NaN</td>\n",
       "      <td>NaN</td>\n",
       "      <td>NaN</td>\n",
       "      <td>NaN</td>\n",
       "    </tr>\n",
       "    <tr>\n",
       "      <th>11</th>\n",
       "      <td>3663560</td>\n",
       "      <td>18403504</td>\n",
       "      <td>107.95</td>\n",
       "      <td>W</td>\n",
       "      <td>9500</td>\n",
       "      <td>321.0</td>\n",
       "      <td>150.0</td>\n",
       "      <td>visa</td>\n",
       "      <td>226.0</td>\n",
       "      <td>debit</td>\n",
       "      <td>...</td>\n",
       "      <td>NaN</td>\n",
       "      <td>NaN</td>\n",
       "      <td>NaN</td>\n",
       "      <td>NaN</td>\n",
       "      <td>NaN</td>\n",
       "      <td>NaN</td>\n",
       "      <td>NaN</td>\n",
       "      <td>NaN</td>\n",
       "      <td>NaN</td>\n",
       "      <td>NaN</td>\n",
       "    </tr>\n",
       "    <tr>\n",
       "      <th>12</th>\n",
       "      <td>3663561</td>\n",
       "      <td>18403508</td>\n",
       "      <td>335.00</td>\n",
       "      <td>W</td>\n",
       "      <td>18366</td>\n",
       "      <td>111.0</td>\n",
       "      <td>150.0</td>\n",
       "      <td>visa</td>\n",
       "      <td>226.0</td>\n",
       "      <td>debit</td>\n",
       "      <td>...</td>\n",
       "      <td>NaN</td>\n",
       "      <td>NaN</td>\n",
       "      <td>NaN</td>\n",
       "      <td>NaN</td>\n",
       "      <td>NaN</td>\n",
       "      <td>NaN</td>\n",
       "      <td>NaN</td>\n",
       "      <td>NaN</td>\n",
       "      <td>NaN</td>\n",
       "      <td>NaN</td>\n",
       "    </tr>\n",
       "    <tr>\n",
       "      <th>13</th>\n",
       "      <td>3663562</td>\n",
       "      <td>18403543</td>\n",
       "      <td>107.95</td>\n",
       "      <td>W</td>\n",
       "      <td>6900</td>\n",
       "      <td>225.0</td>\n",
       "      <td>150.0</td>\n",
       "      <td>mastercard</td>\n",
       "      <td>117.0</td>\n",
       "      <td>debit</td>\n",
       "      <td>...</td>\n",
       "      <td>NaN</td>\n",
       "      <td>NaN</td>\n",
       "      <td>NaN</td>\n",
       "      <td>NaN</td>\n",
       "      <td>NaN</td>\n",
       "      <td>NaN</td>\n",
       "      <td>NaN</td>\n",
       "      <td>NaN</td>\n",
       "      <td>NaN</td>\n",
       "      <td>NaN</td>\n",
       "    </tr>\n",
       "    <tr>\n",
       "      <th>14</th>\n",
       "      <td>3663563</td>\n",
       "      <td>18403553</td>\n",
       "      <td>117.00</td>\n",
       "      <td>W</td>\n",
       "      <td>12686</td>\n",
       "      <td>215.0</td>\n",
       "      <td>150.0</td>\n",
       "      <td>visa</td>\n",
       "      <td>226.0</td>\n",
       "      <td>debit</td>\n",
       "      <td>...</td>\n",
       "      <td>NaN</td>\n",
       "      <td>NaN</td>\n",
       "      <td>NaN</td>\n",
       "      <td>NaN</td>\n",
       "      <td>NaN</td>\n",
       "      <td>NaN</td>\n",
       "      <td>NaN</td>\n",
       "      <td>NaN</td>\n",
       "      <td>NaN</td>\n",
       "      <td>NaN</td>\n",
       "    </tr>\n",
       "    <tr>\n",
       "      <th>15</th>\n",
       "      <td>3663564</td>\n",
       "      <td>18403582</td>\n",
       "      <td>57.95</td>\n",
       "      <td>W</td>\n",
       "      <td>7826</td>\n",
       "      <td>481.0</td>\n",
       "      <td>150.0</td>\n",
       "      <td>mastercard</td>\n",
       "      <td>224.0</td>\n",
       "      <td>debit</td>\n",
       "      <td>...</td>\n",
       "      <td>NaN</td>\n",
       "      <td>NaN</td>\n",
       "      <td>NaN</td>\n",
       "      <td>NaN</td>\n",
       "      <td>NaN</td>\n",
       "      <td>NaN</td>\n",
       "      <td>NaN</td>\n",
       "      <td>NaN</td>\n",
       "      <td>NaN</td>\n",
       "      <td>NaN</td>\n",
       "    </tr>\n",
       "    <tr>\n",
       "      <th>16</th>\n",
       "      <td>3663565</td>\n",
       "      <td>18403598</td>\n",
       "      <td>57.95</td>\n",
       "      <td>W</td>\n",
       "      <td>8489</td>\n",
       "      <td>230.0</td>\n",
       "      <td>150.0</td>\n",
       "      <td>mastercard</td>\n",
       "      <td>224.0</td>\n",
       "      <td>debit</td>\n",
       "      <td>...</td>\n",
       "      <td>NaN</td>\n",
       "      <td>NaN</td>\n",
       "      <td>NaN</td>\n",
       "      <td>NaN</td>\n",
       "      <td>NaN</td>\n",
       "      <td>NaN</td>\n",
       "      <td>NaN</td>\n",
       "      <td>NaN</td>\n",
       "      <td>NaN</td>\n",
       "      <td>NaN</td>\n",
       "    </tr>\n",
       "    <tr>\n",
       "      <th>17</th>\n",
       "      <td>3663566</td>\n",
       "      <td>18403632</td>\n",
       "      <td>29.00</td>\n",
       "      <td>W</td>\n",
       "      <td>12544</td>\n",
       "      <td>321.0</td>\n",
       "      <td>150.0</td>\n",
       "      <td>visa</td>\n",
       "      <td>226.0</td>\n",
       "      <td>debit</td>\n",
       "      <td>...</td>\n",
       "      <td>NaN</td>\n",
       "      <td>NaN</td>\n",
       "      <td>NaN</td>\n",
       "      <td>NaN</td>\n",
       "      <td>NaN</td>\n",
       "      <td>NaN</td>\n",
       "      <td>NaN</td>\n",
       "      <td>NaN</td>\n",
       "      <td>NaN</td>\n",
       "      <td>NaN</td>\n",
       "    </tr>\n",
       "    <tr>\n",
       "      <th>18</th>\n",
       "      <td>3663567</td>\n",
       "      <td>18403632</td>\n",
       "      <td>49.00</td>\n",
       "      <td>W</td>\n",
       "      <td>16560</td>\n",
       "      <td>476.0</td>\n",
       "      <td>150.0</td>\n",
       "      <td>visa</td>\n",
       "      <td>126.0</td>\n",
       "      <td>debit</td>\n",
       "      <td>...</td>\n",
       "      <td>NaN</td>\n",
       "      <td>NaN</td>\n",
       "      <td>NaN</td>\n",
       "      <td>NaN</td>\n",
       "      <td>NaN</td>\n",
       "      <td>NaN</td>\n",
       "      <td>NaN</td>\n",
       "      <td>NaN</td>\n",
       "      <td>NaN</td>\n",
       "      <td>NaN</td>\n",
       "    </tr>\n",
       "    <tr>\n",
       "      <th>19</th>\n",
       "      <td>3663568</td>\n",
       "      <td>18403678</td>\n",
       "      <td>77.00</td>\n",
       "      <td>W</td>\n",
       "      <td>12839</td>\n",
       "      <td>321.0</td>\n",
       "      <td>150.0</td>\n",
       "      <td>visa</td>\n",
       "      <td>226.0</td>\n",
       "      <td>debit</td>\n",
       "      <td>...</td>\n",
       "      <td>NaN</td>\n",
       "      <td>NaN</td>\n",
       "      <td>NaN</td>\n",
       "      <td>NaN</td>\n",
       "      <td>NaN</td>\n",
       "      <td>NaN</td>\n",
       "      <td>NaN</td>\n",
       "      <td>NaN</td>\n",
       "      <td>NaN</td>\n",
       "      <td>NaN</td>\n",
       "    </tr>\n",
       "  </tbody>\n",
       "</table>\n",
       "<p>20 rows × 393 columns</p>\n",
       "</div>"
      ],
      "text/plain": [
       "    TransactionID  TransactionDT  TransactionAmt ProductCD  card1  card2  \\\n",
       "0         3663549       18403224           31.95         W  10409  111.0   \n",
       "1         3663550       18403263           49.00         W   4272  111.0   \n",
       "2         3663551       18403310          171.00         W   4476  574.0   \n",
       "3         3663552       18403310          284.95         W  10989  360.0   \n",
       "4         3663553       18403317           67.95         W  18018  452.0   \n",
       "5         3663554       18403323           57.95         W  12839  321.0   \n",
       "6         3663555       18403350           87.00         W  16560  476.0   \n",
       "7         3663556       18403387          390.00         W  15066  170.0   \n",
       "8         3663557       18403405          103.95         W   2803  100.0   \n",
       "9         3663558       18403416          117.00         W  12544  321.0   \n",
       "10        3663559       18403474          261.95         W  16982  127.0   \n",
       "11        3663560       18403504          107.95         W   9500  321.0   \n",
       "12        3663561       18403508          335.00         W  18366  111.0   \n",
       "13        3663562       18403543          107.95         W   6900  225.0   \n",
       "14        3663563       18403553          117.00         W  12686  215.0   \n",
       "15        3663564       18403582           57.95         W   7826  481.0   \n",
       "16        3663565       18403598           57.95         W   8489  230.0   \n",
       "17        3663566       18403632           29.00         W  12544  321.0   \n",
       "18        3663567       18403632           49.00         W  16560  476.0   \n",
       "19        3663568       18403678           77.00         W  12839  321.0   \n",
       "\n",
       "    card3       card4  card5   card6  ...  V330  V331  V332  V333 V334 V335  \\\n",
       "0   150.0        visa  226.0   debit  ...   NaN   NaN   NaN   NaN  NaN  NaN   \n",
       "1   150.0        visa  226.0   debit  ...   NaN   NaN   NaN   NaN  NaN  NaN   \n",
       "2   150.0        visa  226.0   debit  ...   NaN   NaN   NaN   NaN  NaN  NaN   \n",
       "3   150.0        visa  166.0   debit  ...   NaN   NaN   NaN   NaN  NaN  NaN   \n",
       "4   150.0  mastercard  117.0   debit  ...   NaN   NaN   NaN   NaN  NaN  NaN   \n",
       "5   150.0        visa  226.0   debit  ...   NaN   NaN   NaN   NaN  NaN  NaN   \n",
       "6   150.0        visa  126.0   debit  ...   NaN   NaN   NaN   NaN  NaN  NaN   \n",
       "7   150.0  mastercard  102.0  credit  ...   NaN   NaN   NaN   NaN  NaN  NaN   \n",
       "8   150.0        visa  226.0   debit  ...   NaN   NaN   NaN   NaN  NaN  NaN   \n",
       "9   150.0        visa  226.0   debit  ...   NaN   NaN   NaN   NaN  NaN  NaN   \n",
       "10  150.0  mastercard  224.0   debit  ...   NaN   NaN   NaN   NaN  NaN  NaN   \n",
       "11  150.0        visa  226.0   debit  ...   NaN   NaN   NaN   NaN  NaN  NaN   \n",
       "12  150.0        visa  226.0   debit  ...   NaN   NaN   NaN   NaN  NaN  NaN   \n",
       "13  150.0  mastercard  117.0   debit  ...   NaN   NaN   NaN   NaN  NaN  NaN   \n",
       "14  150.0        visa  226.0   debit  ...   NaN   NaN   NaN   NaN  NaN  NaN   \n",
       "15  150.0  mastercard  224.0   debit  ...   NaN   NaN   NaN   NaN  NaN  NaN   \n",
       "16  150.0  mastercard  224.0   debit  ...   NaN   NaN   NaN   NaN  NaN  NaN   \n",
       "17  150.0        visa  226.0   debit  ...   NaN   NaN   NaN   NaN  NaN  NaN   \n",
       "18  150.0        visa  126.0   debit  ...   NaN   NaN   NaN   NaN  NaN  NaN   \n",
       "19  150.0        visa  226.0   debit  ...   NaN   NaN   NaN   NaN  NaN  NaN   \n",
       "\n",
       "    V336  V337  V338  V339  \n",
       "0    NaN   NaN   NaN   NaN  \n",
       "1    NaN   NaN   NaN   NaN  \n",
       "2    NaN   NaN   NaN   NaN  \n",
       "3    NaN   NaN   NaN   NaN  \n",
       "4    NaN   NaN   NaN   NaN  \n",
       "5    NaN   NaN   NaN   NaN  \n",
       "6    NaN   NaN   NaN   NaN  \n",
       "7    NaN   NaN   NaN   NaN  \n",
       "8    NaN   NaN   NaN   NaN  \n",
       "9    NaN   NaN   NaN   NaN  \n",
       "10   NaN   NaN   NaN   NaN  \n",
       "11   NaN   NaN   NaN   NaN  \n",
       "12   NaN   NaN   NaN   NaN  \n",
       "13   NaN   NaN   NaN   NaN  \n",
       "14   NaN   NaN   NaN   NaN  \n",
       "15   NaN   NaN   NaN   NaN  \n",
       "16   NaN   NaN   NaN   NaN  \n",
       "17   NaN   NaN   NaN   NaN  \n",
       "18   NaN   NaN   NaN   NaN  \n",
       "19   NaN   NaN   NaN   NaN  \n",
       "\n",
       "[20 rows x 393 columns]"
      ]
     },
     "execution_count": 82,
     "metadata": {},
     "output_type": "execute_result"
    }
   ],
   "source": [
    "test_transaction.head(20)"
   ]
  },
  {
   "cell_type": "code",
   "execution_count": 6,
   "metadata": {},
   "outputs": [],
   "source": [
    "train_id = pd.read_csv(\"train_identity.csv\")\n",
    "train_transaction = pd.read_csv(\"train_transaction.csv\")"
   ]
  },
  {
   "cell_type": "code",
   "execution_count": 206,
   "metadata": {},
   "outputs": [],
   "source": [
    "train = pd.merge(train_id, train_transaction, on=['TransactionID'], how='inner')"
   ]
  },
  {
   "cell_type": "code",
   "execution_count": 207,
   "metadata": {},
   "outputs": [],
   "source": [
    "test = pd.merge(test_id, test_transaction, on=['TransactionID'], how='inner')"
   ]
  },
  {
   "cell_type": "code",
   "execution_count": 208,
   "metadata": {},
   "outputs": [
    {
     "name": "stdout",
     "output_type": "stream",
     "text": [
      "<class 'pandas.core.frame.DataFrame'>\n",
      "Int64Index: 144233 entries, 0 to 144232\n",
      "Columns: 434 entries, TransactionID to V339\n",
      "dtypes: float64(399), int64(4), object(31)\n",
      "memory usage: 478.7+ MB\n"
     ]
    }
   ],
   "source": [
    "train.info()"
   ]
  },
  {
   "cell_type": "code",
   "execution_count": 209,
   "metadata": {},
   "outputs": [],
   "source": [
    "train1 = train.copy()"
   ]
  },
  {
   "cell_type": "code",
   "execution_count": 282,
   "metadata": {},
   "outputs": [],
   "source": [
    "import numpy as np\n",
    "import pandas as pd\n",
    "import matplotlib.pyplot as plt\n",
    "import seaborn as sns\n",
    "import missingno as msno"
   ]
  },
  {
   "cell_type": "markdown",
   "metadata": {},
   "source": [
    "## Heat map Visualising Missing Values in the training dataframe"
   ]
  },
  {
   "cell_type": "code",
   "execution_count": 283,
   "metadata": {},
   "outputs": [
    {
     "data": {
      "text/plain": [
       "<matplotlib.axes._subplots.AxesSubplot at 0x11de366a0>"
      ]
     },
     "execution_count": 283,
     "metadata": {},
     "output_type": "execute_result"
    },
    {
     "data": {
      "image/png": "[encoded data removed]",
      "text/plain": [
       "<Figure size 1800x720 with 2 Axes>"
      ]
     },
     "metadata": {
      "needs_background": "light"
     },
     "output_type": "display_data"
    }
   ],
   "source": [
    "msno.matrix(train1)"
   ]
  },
  {
   "cell_type": "code",
   "execution_count": 210,
   "metadata": {},
   "outputs": [],
   "source": [
    "Y_train = train1.pop('isFraud')"
   ]
  },
  {
   "cell_type": "code",
   "execution_count": 211,
   "metadata": {},
   "outputs": [],
   "source": [
    "x = train1"
   ]
  },
  {
   "cell_type": "markdown",
   "metadata": {},
   "source": [
    "## Number of Fraudulent nad Non fraudulent transactions per device"
   ]
  },
  {
   "cell_type": "code",
   "execution_count": 287,
   "metadata": {},
   "outputs": [
    {
     "data": {
      "text/plain": [
       "<matplotlib.axes._subplots.AxesSubplot at 0x12b994080>"
      ]
     },
     "execution_count": 287,
     "metadata": {},
     "output_type": "execute_result"
    },
    {
     "data": {
      "image/png": "[encoded data removed]",
      "text/plain": [
       "<Figure size 432x288 with 1 Axes>"
      ]
     },
     "metadata": {
      "needs_background": "light"
     },
     "output_type": "display_data"
    }
   ],
   "source": [
    "sns.barplot(x=\"DeviceType\", y=\"isFraud\", data=train)"
   ]
  },
  {
   "cell_type": "markdown",
   "metadata": {},
   "source": [
    "## Data Cleaning and preparation"
   ]
  },
  {
   "cell_type": "code",
   "execution_count": 212,
   "metadata": {},
   "outputs": [],
   "source": [
    "train2 = train1.drop(columns=['M1','M2','M3','M4','M5','M6','M7','M8', 'M9'])"
   ]
  },
  {
   "cell_type": "code",
   "execution_count": 213,
   "metadata": {},
   "outputs": [
    {
     "data": {
      "text/plain": [
       "array(['mobile', 'desktop', nan], dtype=object)"
      ]
     },
     "execution_count": 213,
     "metadata": {},
     "output_type": "execute_result"
    }
   ],
   "source": [
    "train2.DeviceType.unique()"
   ]
  },
  {
   "cell_type": "code",
   "execution_count": 214,
   "metadata": {},
   "outputs": [],
   "source": [
    "train2.loc[(train2.DeviceType == 'desktop'), 'DeviceType'] = '0'\n",
    "train2.loc[(train2.DeviceType == 'mobile'), 'DeviceType'] = '1'"
   ]
  },
  {
   "cell_type": "code",
   "execution_count": 215,
   "metadata": {},
   "outputs": [
    {
     "data": {
      "text/plain": [
       "1786"
      ]
     },
     "execution_count": 215,
     "metadata": {},
     "output_type": "execute_result"
    }
   ],
   "source": [
    "train2.DeviceInfo.nunique() # probably too many variables to dumify so drop the variable for now and see later if it can be included"
   ]
  },
  {
   "cell_type": "code",
   "execution_count": 216,
   "metadata": {},
   "outputs": [],
   "source": [
    "train3 = train2.drop(columns=['DeviceInfo'])"
   ]
  },
  {
   "cell_type": "raw",
   "metadata": {},
   "source": [
    "trail = train3[['P_emaildomain', 'R_emaildomain']]"
   ]
  },
  {
   "cell_type": "raw",
   "metadata": {},
   "source": [
    "trail.isna().sum()"
   ]
  },
  {
   "cell_type": "raw",
   "metadata": {},
   "source": [
    "trail.P_emaildomain = trail.P_emaildomain.fillna(trail.R_emaildomain)"
   ]
  },
  {
   "cell_type": "raw",
   "metadata": {},
   "source": [
    "trail.isna().sum()"
   ]
  },
  {
   "cell_type": "code",
   "execution_count": 217,
   "metadata": {},
   "outputs": [],
   "source": [
    "train3.P_emaildomain = train3.P_emaildomain.fillna(train3.R_emaildomain)"
   ]
  },
  {
   "cell_type": "code",
   "execution_count": 218,
   "metadata": {},
   "outputs": [],
   "source": [
    "train3 = train3.drop(columns=['R_emaildomain'])"
   ]
  },
  {
   "cell_type": "code",
   "execution_count": 219,
   "metadata": {},
   "outputs": [
    {
     "data": {
      "text/plain": [
       "array(['credit', 'debit', nan, 'charge card'], dtype=object)"
      ]
     },
     "execution_count": 219,
     "metadata": {},
     "output_type": "execute_result"
    }
   ],
   "source": [
    "train3.card6.unique()"
   ]
  },
  {
   "cell_type": "raw",
   "metadata": {},
   "source": [
    "categorical ids 12,15Y, 16, 23 diff,  27, 28, 29 .... 29-38 seem categorical 30x, 31x, 33X 34 (remove everything apart from last character), 35 AND 36 AND 37 AND 38( t=1 f=0), card 4 and 6"
   ]
  },
  {
   "cell_type": "code",
   "execution_count": 220,
   "metadata": {},
   "outputs": [],
   "source": [
    "train3 = train3.replace('NotFound', 0)\n",
    "train3 = train3.replace('Found', 1)"
   ]
  },
  {
   "cell_type": "code",
   "execution_count": 221,
   "metadata": {},
   "outputs": [],
   "source": [
    "train3 = train3.replace('F', 0)\n",
    "train3 = train3.replace('T', 1)"
   ]
  },
  {
   "cell_type": "code",
   "execution_count": 222,
   "metadata": {},
   "outputs": [],
   "source": [
    "train3 = train3.replace('New', 0)\n",
    "train3 = train3.replace('Unknown', 2)"
   ]
  },
  {
   "cell_type": "code",
   "execution_count": 223,
   "metadata": {},
   "outputs": [],
   "source": [
    "dummy_id23 = pd.get_dummies(train3['id_23'],prefix='d_id23', prefix_sep='_', drop_first=True)"
   ]
  },
  {
   "cell_type": "code",
   "execution_count": 224,
   "metadata": {},
   "outputs": [],
   "source": [
    "train3 = train3.join(dummy_id23)\n",
    "train3 = train3.drop(columns=['id_23'])"
   ]
  },
  {
   "cell_type": "code",
   "execution_count": 225,
   "metadata": {},
   "outputs": [],
   "source": [
    "# For now remove columns 30, 31, 33, to avoid too many columns\n",
    "train3 = train3.drop(columns=['id_30','id_31', 'id_33', 'id_34'])"
   ]
  },
  {
   "cell_type": "code",
   "execution_count": 226,
   "metadata": {},
   "outputs": [],
   "source": [
    "#Product cd - onelabel or dumify"
   ]
  },
  {
   "cell_type": "code",
   "execution_count": 227,
   "metadata": {},
   "outputs": [],
   "source": [
    "dummy_ProductCD = pd.get_dummies(train3['ProductCD'],prefix='d_iProductCD', prefix_sep='_', drop_first=True)\n",
    "\n",
    "train3 = train3.join(dummy_ProductCD)\n",
    "train3 = train3.drop(columns=['ProductCD'])"
   ]
  },
  {
   "cell_type": "code",
   "execution_count": 228,
   "metadata": {},
   "outputs": [],
   "source": [
    "dummy_card4 = pd.get_dummies(train3['card4'],prefix='d_card4', prefix_sep='_', drop_first=True)\n",
    "\n",
    "train3 = train3.join(dummy_card4)\n",
    "train3 = train3.drop(columns=['card4'])"
   ]
  },
  {
   "cell_type": "code",
   "execution_count": 229,
   "metadata": {},
   "outputs": [],
   "source": [
    "dummy_card6 = pd.get_dummies(train3['card6'],prefix='d_card6', prefix_sep='_', drop_first=True)\n",
    "\n",
    "train3 = train3.join(dummy_card6)\n",
    "train3 = train3.drop(columns=['card6'])"
   ]
  },
  {
   "cell_type": "code",
   "execution_count": 230,
   "metadata": {},
   "outputs": [
    {
     "data": {
      "text/plain": [
       "60"
      ]
     },
     "execution_count": 230,
     "metadata": {},
     "output_type": "execute_result"
    }
   ],
   "source": [
    "train3.P_emaildomain.nunique()"
   ]
  },
  {
   "cell_type": "code",
   "execution_count": 231,
   "metadata": {},
   "outputs": [],
   "source": [
    "dummy_P_emaildomain = pd.get_dummies(train3['P_emaildomain'],prefix='d_P_emaildomain', prefix_sep='_', drop_first=True)\n",
    "\n",
    "train3 = train3.join(dummy_P_emaildomain)\n",
    "train3 = train3.drop(columns=['P_emaildomain'])"
   ]
  },
  {
   "cell_type": "code",
   "execution_count": 232,
   "metadata": {},
   "outputs": [
    {
     "name": "stderr",
     "output_type": "stream",
     "text": [
      "/anaconda3/lib/python3.6/site-packages/pandas/core/generic.py:5096: SettingWithCopyWarning: \n",
      "A value is trying to be set on a copy of a slice from a DataFrame.\n",
      "Try using .loc[row_indexer,col_indexer] = value instead\n",
      "\n",
      "See the caveats in the documentation: http://pandas.pydata.org/pandas-docs/stable/indexing.html#indexing-view-versus-copy\n",
      "  self[name] = value\n"
     ]
    }
   ],
   "source": [
    "test1 = test.copy()\n",
    "\n",
    "#Y_test = test1.pop('isFraud')\n",
    "\n",
    "x = test1\n",
    "\n",
    "test2 = test1.drop(columns=['M1','M2','M3','M4','M5','M6','M7','M8', 'M9'])\n",
    "\n",
    "test2.DeviceType.unique()\n",
    "\n",
    "test2.loc[(test2.DeviceType == 'desktop'), 'DeviceType'] = '0'\n",
    "test2.loc[(test2.DeviceType == 'mobile'), 'DeviceType'] = '1'\n",
    "\n",
    "test2.DeviceInfo.nunique() # probably too many variables to dumify so drop the variable for now and see later if it can be included\n",
    "\n",
    "test3 = test2.drop(columns=['DeviceInfo'])\n",
    "\n",
    "trail = test3[['P_emaildomain', 'R_emaildomain']]\n",
    "\n",
    "trail.isna().sum()\n",
    "\n",
    "trail.P_emaildomain = trail.P_emaildomain.fillna(trail.R_emaildomain)\n",
    "\n",
    "trail.isna().sum()\n",
    "\n",
    "test3.P_emaildomain = test3.P_emaildomain.fillna(test3.R_emaildomain)\n",
    "\n",
    "test3 = test3.drop(columns=['R_emaildomain'])\n",
    "\n",
    "test3.card6.unique()\n",
    "\n",
    "#categorical ids 12,15Y, 16, 23 diff,  27, 28, 29 .... 29-38 seem categorical 30x, 31x, 33X 34 (remove everything apart from last character), 35 AND 36 AND 37 AND 38( t=1 f=0), card 4 and 6\n",
    "\n",
    "test3 = test3.replace('NotFound', 0)\n",
    "test3 = test3.replace('Found', 1)\n",
    "\n",
    "test3 = test3.replace('F', 0)\n",
    "test3 = test3.replace('T', 1)\n",
    "\n",
    "test3 = test3.replace('New', 0)\n",
    "test3 = test3.replace('Unknown', 2)\n",
    "\n",
    "dummy_id23 = pd.get_dummies(test3['id_23'],prefix='d_id23', prefix_sep='_', drop_first=True)\n",
    "\n",
    "test3 = test3.join(dummy_id23)\n",
    "test3 = test3.drop(columns=['id_23'])\n",
    "\n",
    "# For now remove columns 30, 31, 33, to avoid too many columns\n",
    "test3 = test3.drop(columns=['id_30','id_31', 'id_33', 'id_34'])\n",
    "\n",
    "#Product cd - onelabel or dumify\n",
    "\n",
    "dummy_ProductCD = pd.get_dummies(test3['ProductCD'],prefix='d_iProductCD', prefix_sep='_', drop_first=True)\n",
    "\n",
    "test3 = test3.join(dummy_ProductCD)\n",
    "test3 = test3.drop(columns=['ProductCD'])\n",
    "\n",
    "dummy_card4 = pd.get_dummies(test3['card4'],prefix='d_card4', prefix_sep='_', drop_first=True)\n",
    "\n",
    "test3 = test3.join(dummy_card4)\n",
    "test3 = test3.drop(columns=['card4'])\n",
    "\n",
    "dummy_card6 = pd.get_dummies(test3['card6'],prefix='d_card6', prefix_sep='_', drop_first=True)\n",
    "\n",
    "test3 = test3.join(dummy_card6)\n",
    "test3 = test3.drop(columns=['card6'])\n",
    "\n",
    "test3.P_emaildomain.nunique()\n",
    "\n",
    "dummy_P_emaildomain = pd.get_dummies(test3['P_emaildomain'],prefix='d_P_emaildomain', prefix_sep='_', drop_first=True)\n",
    "\n",
    "test3 = test3.join(dummy_P_emaildomain)\n",
    "test3 = test3.drop(columns=['P_emaildomain'])\n"
   ]
  },
  {
   "cell_type": "code",
   "execution_count": 233,
   "metadata": {},
   "outputs": [],
   "source": [
    "import sklearn"
   ]
  },
  {
   "cell_type": "code",
   "execution_count": 234,
   "metadata": {},
   "outputs": [],
   "source": [
    "train3.fillna(train3.mean(), inplace=True)"
   ]
  },
  {
   "cell_type": "code",
   "execution_count": 235,
   "metadata": {},
   "outputs": [],
   "source": [
    "test3.fillna(test3.mean(), inplace=True)"
   ]
  },
  {
   "cell_type": "code",
   "execution_count": 245,
   "metadata": {},
   "outputs": [
    {
     "data": {
      "text/plain": [
       "['DeviceType',\n",
       " 'dist1',\n",
       " 'D11',\n",
       " 'V1',\n",
       " 'V2',\n",
       " 'V3',\n",
       " 'V4',\n",
       " 'V5',\n",
       " 'V6',\n",
       " 'V7',\n",
       " 'V8',\n",
       " 'V9',\n",
       " 'V10',\n",
       " 'V11']"
      ]
     },
     "execution_count": 245,
     "metadata": {},
     "output_type": "execute_result"
    }
   ],
   "source": [
    "train3.columns[train3.isna().any()].tolist()"
   ]
  },
  {
   "cell_type": "code",
   "execution_count": 254,
   "metadata": {},
   "outputs": [
    {
     "data": {
      "text/plain": [
       "array(['1', '0', nan], dtype=object)"
      ]
     },
     "execution_count": 254,
     "metadata": {},
     "output_type": "execute_result"
    }
   ],
   "source": [
    "train3.DeviceType.unique()"
   ]
  },
  {
   "cell_type": "code",
   "execution_count": 255,
   "metadata": {},
   "outputs": [],
   "source": [
    "train3 = train3.drop(columns=['dist1',\n",
    " 'D11',\n",
    " 'V1',\n",
    " 'V2',\n",
    " 'V3',\n",
    " 'V4',\n",
    " 'V5',\n",
    " 'V6',\n",
    " 'V7',\n",
    " 'V8',\n",
    " 'V9',\n",
    " 'V10',\n",
    " 'V11'])"
   ]
  },
  {
   "cell_type": "code",
   "execution_count": 256,
   "metadata": {},
   "outputs": [],
   "source": [
    "test3 = test3.drop(columns=['dist1',\n",
    " 'D11',\n",
    " 'V1',\n",
    " 'V2',\n",
    " 'V3',\n",
    " 'V4',\n",
    " 'V5',\n",
    " 'V6',\n",
    " 'V7',\n",
    " 'V8',\n",
    " 'V9',\n",
    " 'V10',\n",
    " 'V11'])"
   ]
  },
  {
   "cell_type": "code",
   "execution_count": 257,
   "metadata": {},
   "outputs": [],
   "source": [
    "train3 = train3.ffill(axis = 0) \n",
    "test3 = test3.ffill(axis = 0) "
   ]
  },
  {
   "cell_type": "code",
   "execution_count": 268,
   "metadata": {},
   "outputs": [],
   "source": [
    "Yvariable = Y_train"
   ]
  },
  {
   "cell_type": "markdown",
   "metadata": {},
   "source": [
    "## Data Split and Scaling"
   ]
  },
  {
   "cell_type": "code",
   "execution_count": 271,
   "metadata": {},
   "outputs": [],
   "source": [
    "from sklearn.model_selection import train_test_split\n",
    "X_train,X_test,y_train,y_test=train_test_split(train3,Yvariable,test_size=0.50)\n"
   ]
  },
  {
   "cell_type": "code",
   "execution_count": 272,
   "metadata": {},
   "outputs": [
    {
     "name": "stderr",
     "output_type": "stream",
     "text": [
      "/anaconda3/lib/python3.6/site-packages/sklearn/preprocessing/data.py:625: DataConversionWarning: Data with input dtype uint8, int64, float64, object were all converted to float64 by StandardScaler.\n",
      "  return self.partial_fit(X, y)\n",
      "/anaconda3/lib/python3.6/site-packages/sklearn/base.py:462: DataConversionWarning: Data with input dtype uint8, int64, float64, object were all converted to float64 by StandardScaler.\n",
      "  return self.fit(X, **fit_params).transform(X)\n",
      "/anaconda3/lib/python3.6/site-packages/ipykernel_launcher.py:7: DataConversionWarning: Data with input dtype uint8, int64, float64, object were all converted to float64 by StandardScaler.\n",
      "  import sys\n"
     ]
    }
   ],
   "source": [
    "from sklearn.preprocessing import StandardScaler\n",
    "\n",
    "sc = StandardScaler()\n",
    "\n",
    "X_train = sc.fit_transform(X_train)\n",
    "\n",
    "X_test = sc.transform(X_test)"
   ]
  },
  {
   "cell_type": "markdown",
   "metadata": {},
   "source": [
    "## prediction of fraud based on training dataset (split to train and test data set) and assesment of model fit"
   ]
  },
  {
   "cell_type": "code",
   "execution_count": 273,
   "metadata": {},
   "outputs": [],
   "source": [
    "from sklearn.linear_model import LogisticRegression\n",
    "from sklearn.metrics import classification_report"
   ]
  },
  {
   "cell_type": "code",
   "execution_count": 274,
   "metadata": {},
   "outputs": [],
   "source": [
    "model = LogisticRegression()"
   ]
  },
  {
   "cell_type": "code",
   "execution_count": 275,
   "metadata": {},
   "outputs": [
    {
     "name": "stderr",
     "output_type": "stream",
     "text": [
      "/anaconda3/lib/python3.6/site-packages/sklearn/linear_model/logistic.py:433: FutureWarning: Default solver will be changed to 'lbfgs' in 0.22. Specify a solver to silence this warning.\n",
      "  FutureWarning)\n"
     ]
    }
   ],
   "source": [
    "model.fit(X_train, y_train)\n",
    "y_pred = model.predict(X_test)"
   ]
  },
  {
   "cell_type": "code",
   "execution_count": 276,
   "metadata": {},
   "outputs": [
    {
     "name": "stdout",
     "output_type": "stream",
     "text": [
      "              precision    recall  f1-score   support\n",
      "\n",
      "           0       0.96      0.99      0.97     66433\n",
      "           1       0.85      0.47      0.60      5684\n",
      "\n",
      "   micro avg       0.95      0.95      0.95     72117\n",
      "   macro avg       0.90      0.73      0.79     72117\n",
      "weighted avg       0.95      0.95      0.94     72117\n",
      "\n"
     ]
    }
   ],
   "source": [
    "from sklearn.metrics import classification_report\n",
    "print(classification_report(y_test, y_pred))"
   ]
  },
  {
   "cell_type": "code",
   "execution_count": 277,
   "metadata": {},
   "outputs": [
    {
     "data": {
      "text/plain": [
       "0.9514816201450421"
      ]
     },
     "execution_count": 277,
     "metadata": {},
     "output_type": "execute_result"
    }
   ],
   "source": [
    "model.score(X_test, y_test)"
   ]
  },
  {
   "cell_type": "markdown",
   "metadata": {},
   "source": [
    "#### The recall value and f1 score are pretty low for fraudulent transactions. this is because this variable type is HEAVYLY underrepresented in the dataset. This could be fixed by oversampling the minor variable to balance the data (however i am not doing this because the laptop may not take the workload of the dataframe that is already massive)"
   ]
  },
  {
   "cell_type": "markdown",
   "metadata": {},
   "source": [
    "## Prediction of the test set from kaggle"
   ]
  },
  {
   "cell_type": "code",
   "execution_count": 278,
   "metadata": {},
   "outputs": [],
   "source": [
    "## Now the test set with no isFroud column can be used for prediction by calling :\n",
    "unknownset_pred = model.predict(test3)"
   ]
  },
  {
   "cell_type": "code",
   "execution_count": 279,
   "metadata": {},
   "outputs": [
    {
     "data": {
      "text/plain": [
       "array([0, 0, 0, ..., 0, 0, 0])"
      ]
     },
     "execution_count": 279,
     "metadata": {},
     "output_type": "execute_result"
    }
   ],
   "source": [
    "unknownset_pred"
   ]
  },
  {
   "cell_type": "code",
   "execution_count": null,
   "metadata": {},
   "outputs": [],
   "source": []
  }
 ],
 "metadata": {
  "kernelspec": {
   "display_name": "Python 3",
   "language": "python",
   "name": "python3"
  },
  "language_info": {
   "codemirror_mode": {
    "name": "ipython",
    "version": 3
   },
   "file_extension": ".py",
   "mimetype": "text/x-python",
   "name": "python",
   "nbconvert_exporter": "python",
   "pygments_lexer": "ipython3",
   "version": "3.6.8"
  }
 },
 "nbformat": 4,
 "nbformat_minor": 2
}
